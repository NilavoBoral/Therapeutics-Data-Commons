{
  "nbformat": 4,
  "nbformat_minor": 0,
  "metadata": {
    "colab": {
      "name": "Nilavo_Caco2.ipynb",
      "provenance": [],
      "collapsed_sections": []
    },
    "kernelspec": {
      "name": "python3",
      "display_name": "Python 3"
    },
    "language_info": {
      "name": "python"
    }
  },
  "cells": [
    {
      "cell_type": "markdown",
      "source": [
        "# Import data"
      ],
      "metadata": {
        "id": "W_oPyL-QmibD"
      }
    },
    {
      "cell_type": "code",
      "execution_count": 406,
      "metadata": {
        "id": "wy3m7jlJSJ2E"
      },
      "outputs": [],
      "source": [
        "import numpy as np\n",
        "import pandas as pd\n",
        "import matplotlib.pyplot as plt"
      ]
    },
    {
      "cell_type": "code",
      "source": [
        "pip install PyTDC"
      ],
      "metadata": {
        "id": "eNvpGOefScCX"
      },
      "execution_count": null,
      "outputs": []
    },
    {
      "cell_type": "code",
      "source": [
        "pip install rdkit-pypi"
      ],
      "metadata": {
        "id": "GQUjqUvVSheC"
      },
      "execution_count": null,
      "outputs": []
    },
    {
      "cell_type": "code",
      "source": [
        "from tdc.benchmark_group import admet_group\n",
        "group = admet_group(path = 'data/')\n",
        "\n",
        "benchmark = group.get('caco2_wang')\n",
        "\n",
        "train_val, test = benchmark['train_val'], benchmark['test']"
      ],
      "metadata": {
        "colab": {
          "base_uri": "https://localhost:8080/"
        },
        "id": "NciD8_M4THPj",
        "outputId": "31b49ddd-38b9-4265-b55d-c86ae6352828"
      },
      "execution_count": 409,
      "outputs": [
        {
          "output_type": "stream",
          "name": "stderr",
          "text": [
            "Found local copy...\n"
          ]
        }
      ]
    },
    {
      "cell_type": "code",
      "source": [
        "print(train_val.shape)\n",
        "train_val.head(2)"
      ],
      "metadata": {
        "colab": {
          "base_uri": "https://localhost:8080/",
          "height": 129
        },
        "id": "PVrI_FwOjP5T",
        "outputId": "425b8bc3-435b-418d-b956-731325add748"
      },
      "execution_count": 410,
      "outputs": [
        {
          "output_type": "stream",
          "name": "stdout",
          "text": [
            "(728, 3)\n"
          ]
        },
        {
          "output_type": "execute_result",
          "data": {
            "text/plain": [
              "    Drug_ID                             Drug         Y\n",
              "0   H 95/71      CC(C)NCC(O)COc1ccc(NC=O)cc1 -5.427984\n",
              "1  H 244/45  CCC(=O)Nc1ccc(OCC(O)CNC(C)C)cc1 -5.219842"
            ],
            "text/html": [
              "\n",
              "  <div id=\"df-13a3edb8-088d-43be-9f21-75c0de91dd63\">\n",
              "    <div class=\"colab-df-container\">\n",
              "      <div>\n",
              "<style scoped>\n",
              "    .dataframe tbody tr th:only-of-type {\n",
              "        vertical-align: middle;\n",
              "    }\n",
              "\n",
              "    .dataframe tbody tr th {\n",
              "        vertical-align: top;\n",
              "    }\n",
              "\n",
              "    .dataframe thead th {\n",
              "        text-align: right;\n",
              "    }\n",
              "</style>\n",
              "<table border=\"1\" class=\"dataframe\">\n",
              "  <thead>\n",
              "    <tr style=\"text-align: right;\">\n",
              "      <th></th>\n",
              "      <th>Drug_ID</th>\n",
              "      <th>Drug</th>\n",
              "      <th>Y</th>\n",
              "    </tr>\n",
              "  </thead>\n",
              "  <tbody>\n",
              "    <tr>\n",
              "      <th>0</th>\n",
              "      <td>H 95/71</td>\n",
              "      <td>CC(C)NCC(O)COc1ccc(NC=O)cc1</td>\n",
              "      <td>-5.427984</td>\n",
              "    </tr>\n",
              "    <tr>\n",
              "      <th>1</th>\n",
              "      <td>H 244/45</td>\n",
              "      <td>CCC(=O)Nc1ccc(OCC(O)CNC(C)C)cc1</td>\n",
              "      <td>-5.219842</td>\n",
              "    </tr>\n",
              "  </tbody>\n",
              "</table>\n",
              "</div>\n",
              "      <button class=\"colab-df-convert\" onclick=\"convertToInteractive('df-13a3edb8-088d-43be-9f21-75c0de91dd63')\"\n",
              "              title=\"Convert this dataframe to an interactive table.\"\n",
              "              style=\"display:none;\">\n",
              "        \n",
              "  <svg xmlns=\"http://www.w3.org/2000/svg\" height=\"24px\"viewBox=\"0 0 24 24\"\n",
              "       width=\"24px\">\n",
              "    <path d=\"M0 0h24v24H0V0z\" fill=\"none\"/>\n",
              "    <path d=\"M18.56 5.44l.94 2.06.94-2.06 2.06-.94-2.06-.94-.94-2.06-.94 2.06-2.06.94zm-11 1L8.5 8.5l.94-2.06 2.06-.94-2.06-.94L8.5 2.5l-.94 2.06-2.06.94zm10 10l.94 2.06.94-2.06 2.06-.94-2.06-.94-.94-2.06-.94 2.06-2.06.94z\"/><path d=\"M17.41 7.96l-1.37-1.37c-.4-.4-.92-.59-1.43-.59-.52 0-1.04.2-1.43.59L10.3 9.45l-7.72 7.72c-.78.78-.78 2.05 0 2.83L4 21.41c.39.39.9.59 1.41.59.51 0 1.02-.2 1.41-.59l7.78-7.78 2.81-2.81c.8-.78.8-2.07 0-2.86zM5.41 20L4 18.59l7.72-7.72 1.47 1.35L5.41 20z\"/>\n",
              "  </svg>\n",
              "      </button>\n",
              "      \n",
              "  <style>\n",
              "    .colab-df-container {\n",
              "      display:flex;\n",
              "      flex-wrap:wrap;\n",
              "      gap: 12px;\n",
              "    }\n",
              "\n",
              "    .colab-df-convert {\n",
              "      background-color: #E8F0FE;\n",
              "      border: none;\n",
              "      border-radius: 50%;\n",
              "      cursor: pointer;\n",
              "      display: none;\n",
              "      fill: #1967D2;\n",
              "      height: 32px;\n",
              "      padding: 0 0 0 0;\n",
              "      width: 32px;\n",
              "    }\n",
              "\n",
              "    .colab-df-convert:hover {\n",
              "      background-color: #E2EBFA;\n",
              "      box-shadow: 0px 1px 2px rgba(60, 64, 67, 0.3), 0px 1px 3px 1px rgba(60, 64, 67, 0.15);\n",
              "      fill: #174EA6;\n",
              "    }\n",
              "\n",
              "    [theme=dark] .colab-df-convert {\n",
              "      background-color: #3B4455;\n",
              "      fill: #D2E3FC;\n",
              "    }\n",
              "\n",
              "    [theme=dark] .colab-df-convert:hover {\n",
              "      background-color: #434B5C;\n",
              "      box-shadow: 0px 1px 3px 1px rgba(0, 0, 0, 0.15);\n",
              "      filter: drop-shadow(0px 1px 2px rgba(0, 0, 0, 0.3));\n",
              "      fill: #FFFFFF;\n",
              "    }\n",
              "  </style>\n",
              "\n",
              "      <script>\n",
              "        const buttonEl =\n",
              "          document.querySelector('#df-13a3edb8-088d-43be-9f21-75c0de91dd63 button.colab-df-convert');\n",
              "        buttonEl.style.display =\n",
              "          google.colab.kernel.accessAllowed ? 'block' : 'none';\n",
              "\n",
              "        async function convertToInteractive(key) {\n",
              "          const element = document.querySelector('#df-13a3edb8-088d-43be-9f21-75c0de91dd63');\n",
              "          const dataTable =\n",
              "            await google.colab.kernel.invokeFunction('convertToInteractive',\n",
              "                                                     [key], {});\n",
              "          if (!dataTable) return;\n",
              "\n",
              "          const docLinkHtml = 'Like what you see? Visit the ' +\n",
              "            '<a target=\"_blank\" href=https://colab.research.google.com/notebooks/data_table.ipynb>data table notebook</a>'\n",
              "            + ' to learn more about interactive tables.';\n",
              "          element.innerHTML = '';\n",
              "          dataTable['output_type'] = 'display_data';\n",
              "          await google.colab.output.renderOutput(dataTable, element);\n",
              "          const docLink = document.createElement('div');\n",
              "          docLink.innerHTML = docLinkHtml;\n",
              "          element.appendChild(docLink);\n",
              "        }\n",
              "      </script>\n",
              "    </div>\n",
              "  </div>\n",
              "  "
            ]
          },
          "metadata": {},
          "execution_count": 410
        }
      ]
    },
    {
      "cell_type": "code",
      "source": [
        "print(test.shape)\n",
        "test.head(2)"
      ],
      "metadata": {
        "colab": {
          "base_uri": "https://localhost:8080/",
          "height": 129
        },
        "id": "vYpI9hBajahI",
        "outputId": "d3f31b8b-28de-4a61-a915-173a2884ec85"
      },
      "execution_count": 411,
      "outputs": [
        {
          "output_type": "stream",
          "name": "stdout",
          "text": [
            "(182, 3)\n"
          ]
        },
        {
          "output_type": "execute_result",
          "data": {
            "text/plain": [
              "       Drug_ID                                               Drug     Y\n",
              "0         I-II  O=C(O)C[C@@H](c1cnc2ccccc2c1)N1CC[C@@H](CCCc2c... -5.69\n",
              "1  aceclofenac              O=C(O)COC(=O)Cc1ccccc1Nc1c(Cl)cccc1Cl -4.41"
            ],
            "text/html": [
              "\n",
              "  <div id=\"df-4fff2825-088e-4a13-a964-82070c76c32c\">\n",
              "    <div class=\"colab-df-container\">\n",
              "      <div>\n",
              "<style scoped>\n",
              "    .dataframe tbody tr th:only-of-type {\n",
              "        vertical-align: middle;\n",
              "    }\n",
              "\n",
              "    .dataframe tbody tr th {\n",
              "        vertical-align: top;\n",
              "    }\n",
              "\n",
              "    .dataframe thead th {\n",
              "        text-align: right;\n",
              "    }\n",
              "</style>\n",
              "<table border=\"1\" class=\"dataframe\">\n",
              "  <thead>\n",
              "    <tr style=\"text-align: right;\">\n",
              "      <th></th>\n",
              "      <th>Drug_ID</th>\n",
              "      <th>Drug</th>\n",
              "      <th>Y</th>\n",
              "    </tr>\n",
              "  </thead>\n",
              "  <tbody>\n",
              "    <tr>\n",
              "      <th>0</th>\n",
              "      <td>I-II</td>\n",
              "      <td>O=C(O)C[C@@H](c1cnc2ccccc2c1)N1CC[C@@H](CCCc2c...</td>\n",
              "      <td>-5.69</td>\n",
              "    </tr>\n",
              "    <tr>\n",
              "      <th>1</th>\n",
              "      <td>aceclofenac</td>\n",
              "      <td>O=C(O)COC(=O)Cc1ccccc1Nc1c(Cl)cccc1Cl</td>\n",
              "      <td>-4.41</td>\n",
              "    </tr>\n",
              "  </tbody>\n",
              "</table>\n",
              "</div>\n",
              "      <button class=\"colab-df-convert\" onclick=\"convertToInteractive('df-4fff2825-088e-4a13-a964-82070c76c32c')\"\n",
              "              title=\"Convert this dataframe to an interactive table.\"\n",
              "              style=\"display:none;\">\n",
              "        \n",
              "  <svg xmlns=\"http://www.w3.org/2000/svg\" height=\"24px\"viewBox=\"0 0 24 24\"\n",
              "       width=\"24px\">\n",
              "    <path d=\"M0 0h24v24H0V0z\" fill=\"none\"/>\n",
              "    <path d=\"M18.56 5.44l.94 2.06.94-2.06 2.06-.94-2.06-.94-.94-2.06-.94 2.06-2.06.94zm-11 1L8.5 8.5l.94-2.06 2.06-.94-2.06-.94L8.5 2.5l-.94 2.06-2.06.94zm10 10l.94 2.06.94-2.06 2.06-.94-2.06-.94-.94-2.06-.94 2.06-2.06.94z\"/><path d=\"M17.41 7.96l-1.37-1.37c-.4-.4-.92-.59-1.43-.59-.52 0-1.04.2-1.43.59L10.3 9.45l-7.72 7.72c-.78.78-.78 2.05 0 2.83L4 21.41c.39.39.9.59 1.41.59.51 0 1.02-.2 1.41-.59l7.78-7.78 2.81-2.81c.8-.78.8-2.07 0-2.86zM5.41 20L4 18.59l7.72-7.72 1.47 1.35L5.41 20z\"/>\n",
              "  </svg>\n",
              "      </button>\n",
              "      \n",
              "  <style>\n",
              "    .colab-df-container {\n",
              "      display:flex;\n",
              "      flex-wrap:wrap;\n",
              "      gap: 12px;\n",
              "    }\n",
              "\n",
              "    .colab-df-convert {\n",
              "      background-color: #E8F0FE;\n",
              "      border: none;\n",
              "      border-radius: 50%;\n",
              "      cursor: pointer;\n",
              "      display: none;\n",
              "      fill: #1967D2;\n",
              "      height: 32px;\n",
              "      padding: 0 0 0 0;\n",
              "      width: 32px;\n",
              "    }\n",
              "\n",
              "    .colab-df-convert:hover {\n",
              "      background-color: #E2EBFA;\n",
              "      box-shadow: 0px 1px 2px rgba(60, 64, 67, 0.3), 0px 1px 3px 1px rgba(60, 64, 67, 0.15);\n",
              "      fill: #174EA6;\n",
              "    }\n",
              "\n",
              "    [theme=dark] .colab-df-convert {\n",
              "      background-color: #3B4455;\n",
              "      fill: #D2E3FC;\n",
              "    }\n",
              "\n",
              "    [theme=dark] .colab-df-convert:hover {\n",
              "      background-color: #434B5C;\n",
              "      box-shadow: 0px 1px 3px 1px rgba(0, 0, 0, 0.15);\n",
              "      filter: drop-shadow(0px 1px 2px rgba(0, 0, 0, 0.3));\n",
              "      fill: #FFFFFF;\n",
              "    }\n",
              "  </style>\n",
              "\n",
              "      <script>\n",
              "        const buttonEl =\n",
              "          document.querySelector('#df-4fff2825-088e-4a13-a964-82070c76c32c button.colab-df-convert');\n",
              "        buttonEl.style.display =\n",
              "          google.colab.kernel.accessAllowed ? 'block' : 'none';\n",
              "\n",
              "        async function convertToInteractive(key) {\n",
              "          const element = document.querySelector('#df-4fff2825-088e-4a13-a964-82070c76c32c');\n",
              "          const dataTable =\n",
              "            await google.colab.kernel.invokeFunction('convertToInteractive',\n",
              "                                                     [key], {});\n",
              "          if (!dataTable) return;\n",
              "\n",
              "          const docLinkHtml = 'Like what you see? Visit the ' +\n",
              "            '<a target=\"_blank\" href=https://colab.research.google.com/notebooks/data_table.ipynb>data table notebook</a>'\n",
              "            + ' to learn more about interactive tables.';\n",
              "          element.innerHTML = '';\n",
              "          dataTable['output_type'] = 'display_data';\n",
              "          await google.colab.output.renderOutput(dataTable, element);\n",
              "          const docLink = document.createElement('div');\n",
              "          docLink.innerHTML = docLinkHtml;\n",
              "          element.appendChild(docLink);\n",
              "        }\n",
              "      </script>\n",
              "    </div>\n",
              "  </div>\n",
              "  "
            ]
          },
          "metadata": {},
          "execution_count": 411
        }
      ]
    },
    {
      "cell_type": "code",
      "source": [
        "# spliting train_val set into training & validation data\n",
        "\n",
        "from sklearn.model_selection import train_test_split as tts\n",
        "x_train, x_valid, y_train, y_valid = tts(train_val.iloc[:,:-1], train_val['Y'], test_size=0.2, random_state=10)"
      ],
      "metadata": {
        "id": "XRpH4N0xhLSO"
      },
      "execution_count": 412,
      "outputs": []
    },
    {
      "cell_type": "markdown",
      "source": [
        "Traning Set"
      ],
      "metadata": {
        "id": "aoKk2ELQSxtd"
      }
    },
    {
      "cell_type": "code",
      "source": [
        "print(x_train.shape)\n",
        "x_train.head(2)"
      ],
      "metadata": {
        "colab": {
          "base_uri": "https://localhost:8080/",
          "height": 129
        },
        "id": "fOEaOef0jwWL",
        "outputId": "9c85eac9-59da-435b-e4ca-1f9ad056e9f2"
      },
      "execution_count": 413,
      "outputs": [
        {
          "output_type": "stream",
          "name": "stdout",
          "text": [
            "(582, 2)\n"
          ]
        },
        {
          "output_type": "execute_result",
          "data": {
            "text/plain": [
              "          Drug_ID                                               Drug\n",
              "142  Promethazine                     CC(CN1c2ccccc2Sc2ccccc21)N(C)C\n",
              "235      CA-DADLE  CC(C)C[C@H]1NC(=O)[C@@H](Cc2ccccc2)NC(=O)CNC(=..."
            ],
            "text/html": [
              "\n",
              "  <div id=\"df-518f3703-4074-482d-a7af-4d19572caa35\">\n",
              "    <div class=\"colab-df-container\">\n",
              "      <div>\n",
              "<style scoped>\n",
              "    .dataframe tbody tr th:only-of-type {\n",
              "        vertical-align: middle;\n",
              "    }\n",
              "\n",
              "    .dataframe tbody tr th {\n",
              "        vertical-align: top;\n",
              "    }\n",
              "\n",
              "    .dataframe thead th {\n",
              "        text-align: right;\n",
              "    }\n",
              "</style>\n",
              "<table border=\"1\" class=\"dataframe\">\n",
              "  <thead>\n",
              "    <tr style=\"text-align: right;\">\n",
              "      <th></th>\n",
              "      <th>Drug_ID</th>\n",
              "      <th>Drug</th>\n",
              "    </tr>\n",
              "  </thead>\n",
              "  <tbody>\n",
              "    <tr>\n",
              "      <th>142</th>\n",
              "      <td>Promethazine</td>\n",
              "      <td>CC(CN1c2ccccc2Sc2ccccc21)N(C)C</td>\n",
              "    </tr>\n",
              "    <tr>\n",
              "      <th>235</th>\n",
              "      <td>CA-DADLE</td>\n",
              "      <td>CC(C)C[C@H]1NC(=O)[C@@H](Cc2ccccc2)NC(=O)CNC(=...</td>\n",
              "    </tr>\n",
              "  </tbody>\n",
              "</table>\n",
              "</div>\n",
              "      <button class=\"colab-df-convert\" onclick=\"convertToInteractive('df-518f3703-4074-482d-a7af-4d19572caa35')\"\n",
              "              title=\"Convert this dataframe to an interactive table.\"\n",
              "              style=\"display:none;\">\n",
              "        \n",
              "  <svg xmlns=\"http://www.w3.org/2000/svg\" height=\"24px\"viewBox=\"0 0 24 24\"\n",
              "       width=\"24px\">\n",
              "    <path d=\"M0 0h24v24H0V0z\" fill=\"none\"/>\n",
              "    <path d=\"M18.56 5.44l.94 2.06.94-2.06 2.06-.94-2.06-.94-.94-2.06-.94 2.06-2.06.94zm-11 1L8.5 8.5l.94-2.06 2.06-.94-2.06-.94L8.5 2.5l-.94 2.06-2.06.94zm10 10l.94 2.06.94-2.06 2.06-.94-2.06-.94-.94-2.06-.94 2.06-2.06.94z\"/><path d=\"M17.41 7.96l-1.37-1.37c-.4-.4-.92-.59-1.43-.59-.52 0-1.04.2-1.43.59L10.3 9.45l-7.72 7.72c-.78.78-.78 2.05 0 2.83L4 21.41c.39.39.9.59 1.41.59.51 0 1.02-.2 1.41-.59l7.78-7.78 2.81-2.81c.8-.78.8-2.07 0-2.86zM5.41 20L4 18.59l7.72-7.72 1.47 1.35L5.41 20z\"/>\n",
              "  </svg>\n",
              "      </button>\n",
              "      \n",
              "  <style>\n",
              "    .colab-df-container {\n",
              "      display:flex;\n",
              "      flex-wrap:wrap;\n",
              "      gap: 12px;\n",
              "    }\n",
              "\n",
              "    .colab-df-convert {\n",
              "      background-color: #E8F0FE;\n",
              "      border: none;\n",
              "      border-radius: 50%;\n",
              "      cursor: pointer;\n",
              "      display: none;\n",
              "      fill: #1967D2;\n",
              "      height: 32px;\n",
              "      padding: 0 0 0 0;\n",
              "      width: 32px;\n",
              "    }\n",
              "\n",
              "    .colab-df-convert:hover {\n",
              "      background-color: #E2EBFA;\n",
              "      box-shadow: 0px 1px 2px rgba(60, 64, 67, 0.3), 0px 1px 3px 1px rgba(60, 64, 67, 0.15);\n",
              "      fill: #174EA6;\n",
              "    }\n",
              "\n",
              "    [theme=dark] .colab-df-convert {\n",
              "      background-color: #3B4455;\n",
              "      fill: #D2E3FC;\n",
              "    }\n",
              "\n",
              "    [theme=dark] .colab-df-convert:hover {\n",
              "      background-color: #434B5C;\n",
              "      box-shadow: 0px 1px 3px 1px rgba(0, 0, 0, 0.15);\n",
              "      filter: drop-shadow(0px 1px 2px rgba(0, 0, 0, 0.3));\n",
              "      fill: #FFFFFF;\n",
              "    }\n",
              "  </style>\n",
              "\n",
              "      <script>\n",
              "        const buttonEl =\n",
              "          document.querySelector('#df-518f3703-4074-482d-a7af-4d19572caa35 button.colab-df-convert');\n",
              "        buttonEl.style.display =\n",
              "          google.colab.kernel.accessAllowed ? 'block' : 'none';\n",
              "\n",
              "        async function convertToInteractive(key) {\n",
              "          const element = document.querySelector('#df-518f3703-4074-482d-a7af-4d19572caa35');\n",
              "          const dataTable =\n",
              "            await google.colab.kernel.invokeFunction('convertToInteractive',\n",
              "                                                     [key], {});\n",
              "          if (!dataTable) return;\n",
              "\n",
              "          const docLinkHtml = 'Like what you see? Visit the ' +\n",
              "            '<a target=\"_blank\" href=https://colab.research.google.com/notebooks/data_table.ipynb>data table notebook</a>'\n",
              "            + ' to learn more about interactive tables.';\n",
              "          element.innerHTML = '';\n",
              "          dataTable['output_type'] = 'display_data';\n",
              "          await google.colab.output.renderOutput(dataTable, element);\n",
              "          const docLink = document.createElement('div');\n",
              "          docLink.innerHTML = docLinkHtml;\n",
              "          element.appendChild(docLink);\n",
              "        }\n",
              "      </script>\n",
              "    </div>\n",
              "  </div>\n",
              "  "
            ]
          },
          "metadata": {},
          "execution_count": 413
        }
      ]
    },
    {
      "cell_type": "code",
      "source": [
        "print(y_train.shape)\n",
        "y_train.head(2)"
      ],
      "metadata": {
        "colab": {
          "base_uri": "https://localhost:8080/"
        },
        "id": "VxtYixSVj8DS",
        "outputId": "6274e286-6c62-47fa-abfa-bb0e14e0cd15"
      },
      "execution_count": 414,
      "outputs": [
        {
          "output_type": "stream",
          "name": "stdout",
          "text": [
            "(582,)\n"
          ]
        },
        {
          "output_type": "execute_result",
          "data": {
            "text/plain": [
              "142   -3.777772\n",
              "235   -5.880000\n",
              "Name: Y, dtype: float64"
            ]
          },
          "metadata": {},
          "execution_count": 414
        }
      ]
    },
    {
      "cell_type": "markdown",
      "source": [
        "Validation Set"
      ],
      "metadata": {
        "id": "uuqFoLIbS1bP"
      }
    },
    {
      "cell_type": "code",
      "source": [
        "print(x_valid.shape)\n",
        "x_valid.head(2)"
      ],
      "metadata": {
        "colab": {
          "base_uri": "https://localhost:8080/",
          "height": 129
        },
        "id": "kjGT4ptZj2kG",
        "outputId": "5d418285-e7aa-4a63-940a-6e7566157bf5"
      },
      "execution_count": 415,
      "outputs": [
        {
          "output_type": "stream",
          "name": "stdout",
          "text": [
            "(146, 2)\n"
          ]
        },
        {
          "output_type": "execute_result",
          "data": {
            "text/plain": [
              "    Drug_ID                                               Drug\n",
              "390     13g  CN1C(=O)CC(N2CCCN(CCCN3c4ccccc4COc4ccc(C(=O)O)...\n",
              "143      M1                       CN(C)CC1CCCCC1(O)c1cccc(O)c1"
            ],
            "text/html": [
              "\n",
              "  <div id=\"df-7216de2b-d022-4db5-b0e9-067f71b3ca54\">\n",
              "    <div class=\"colab-df-container\">\n",
              "      <div>\n",
              "<style scoped>\n",
              "    .dataframe tbody tr th:only-of-type {\n",
              "        vertical-align: middle;\n",
              "    }\n",
              "\n",
              "    .dataframe tbody tr th {\n",
              "        vertical-align: top;\n",
              "    }\n",
              "\n",
              "    .dataframe thead th {\n",
              "        text-align: right;\n",
              "    }\n",
              "</style>\n",
              "<table border=\"1\" class=\"dataframe\">\n",
              "  <thead>\n",
              "    <tr style=\"text-align: right;\">\n",
              "      <th></th>\n",
              "      <th>Drug_ID</th>\n",
              "      <th>Drug</th>\n",
              "    </tr>\n",
              "  </thead>\n",
              "  <tbody>\n",
              "    <tr>\n",
              "      <th>390</th>\n",
              "      <td>13g</td>\n",
              "      <td>CN1C(=O)CC(N2CCCN(CCCN3c4ccccc4COc4ccc(C(=O)O)...</td>\n",
              "    </tr>\n",
              "    <tr>\n",
              "      <th>143</th>\n",
              "      <td>M1</td>\n",
              "      <td>CN(C)CC1CCCCC1(O)c1cccc(O)c1</td>\n",
              "    </tr>\n",
              "  </tbody>\n",
              "</table>\n",
              "</div>\n",
              "      <button class=\"colab-df-convert\" onclick=\"convertToInteractive('df-7216de2b-d022-4db5-b0e9-067f71b3ca54')\"\n",
              "              title=\"Convert this dataframe to an interactive table.\"\n",
              "              style=\"display:none;\">\n",
              "        \n",
              "  <svg xmlns=\"http://www.w3.org/2000/svg\" height=\"24px\"viewBox=\"0 0 24 24\"\n",
              "       width=\"24px\">\n",
              "    <path d=\"M0 0h24v24H0V0z\" fill=\"none\"/>\n",
              "    <path d=\"M18.56 5.44l.94 2.06.94-2.06 2.06-.94-2.06-.94-.94-2.06-.94 2.06-2.06.94zm-11 1L8.5 8.5l.94-2.06 2.06-.94-2.06-.94L8.5 2.5l-.94 2.06-2.06.94zm10 10l.94 2.06.94-2.06 2.06-.94-2.06-.94-.94-2.06-.94 2.06-2.06.94z\"/><path d=\"M17.41 7.96l-1.37-1.37c-.4-.4-.92-.59-1.43-.59-.52 0-1.04.2-1.43.59L10.3 9.45l-7.72 7.72c-.78.78-.78 2.05 0 2.83L4 21.41c.39.39.9.59 1.41.59.51 0 1.02-.2 1.41-.59l7.78-7.78 2.81-2.81c.8-.78.8-2.07 0-2.86zM5.41 20L4 18.59l7.72-7.72 1.47 1.35L5.41 20z\"/>\n",
              "  </svg>\n",
              "      </button>\n",
              "      \n",
              "  <style>\n",
              "    .colab-df-container {\n",
              "      display:flex;\n",
              "      flex-wrap:wrap;\n",
              "      gap: 12px;\n",
              "    }\n",
              "\n",
              "    .colab-df-convert {\n",
              "      background-color: #E8F0FE;\n",
              "      border: none;\n",
              "      border-radius: 50%;\n",
              "      cursor: pointer;\n",
              "      display: none;\n",
              "      fill: #1967D2;\n",
              "      height: 32px;\n",
              "      padding: 0 0 0 0;\n",
              "      width: 32px;\n",
              "    }\n",
              "\n",
              "    .colab-df-convert:hover {\n",
              "      background-color: #E2EBFA;\n",
              "      box-shadow: 0px 1px 2px rgba(60, 64, 67, 0.3), 0px 1px 3px 1px rgba(60, 64, 67, 0.15);\n",
              "      fill: #174EA6;\n",
              "    }\n",
              "\n",
              "    [theme=dark] .colab-df-convert {\n",
              "      background-color: #3B4455;\n",
              "      fill: #D2E3FC;\n",
              "    }\n",
              "\n",
              "    [theme=dark] .colab-df-convert:hover {\n",
              "      background-color: #434B5C;\n",
              "      box-shadow: 0px 1px 3px 1px rgba(0, 0, 0, 0.15);\n",
              "      filter: drop-shadow(0px 1px 2px rgba(0, 0, 0, 0.3));\n",
              "      fill: #FFFFFF;\n",
              "    }\n",
              "  </style>\n",
              "\n",
              "      <script>\n",
              "        const buttonEl =\n",
              "          document.querySelector('#df-7216de2b-d022-4db5-b0e9-067f71b3ca54 button.colab-df-convert');\n",
              "        buttonEl.style.display =\n",
              "          google.colab.kernel.accessAllowed ? 'block' : 'none';\n",
              "\n",
              "        async function convertToInteractive(key) {\n",
              "          const element = document.querySelector('#df-7216de2b-d022-4db5-b0e9-067f71b3ca54');\n",
              "          const dataTable =\n",
              "            await google.colab.kernel.invokeFunction('convertToInteractive',\n",
              "                                                     [key], {});\n",
              "          if (!dataTable) return;\n",
              "\n",
              "          const docLinkHtml = 'Like what you see? Visit the ' +\n",
              "            '<a target=\"_blank\" href=https://colab.research.google.com/notebooks/data_table.ipynb>data table notebook</a>'\n",
              "            + ' to learn more about interactive tables.';\n",
              "          element.innerHTML = '';\n",
              "          dataTable['output_type'] = 'display_data';\n",
              "          await google.colab.output.renderOutput(dataTable, element);\n",
              "          const docLink = document.createElement('div');\n",
              "          docLink.innerHTML = docLinkHtml;\n",
              "          element.appendChild(docLink);\n",
              "        }\n",
              "      </script>\n",
              "    </div>\n",
              "  </div>\n",
              "  "
            ]
          },
          "metadata": {},
          "execution_count": 415
        }
      ]
    },
    {
      "cell_type": "code",
      "source": [
        "print(y_valid.shape)\n",
        "y_valid.head(2)"
      ],
      "metadata": {
        "colab": {
          "base_uri": "https://localhost:8080/"
        },
        "id": "0PNUUZcrkIeI",
        "outputId": "f6f87dba-0e2f-4f59-b6e5-d7ee52cf9c28"
      },
      "execution_count": 416,
      "outputs": [
        {
          "output_type": "stream",
          "name": "stdout",
          "text": [
            "(146,)\n"
          ]
        },
        {
          "output_type": "execute_result",
          "data": {
            "text/plain": [
              "390   -5.500000\n",
              "143   -4.779946\n",
              "Name: Y, dtype: float64"
            ]
          },
          "metadata": {},
          "execution_count": 416
        }
      ]
    },
    {
      "cell_type": "markdown",
      "source": [
        "# Features extract"
      ],
      "metadata": {
        "id": "Fs44DOigmcew"
      }
    },
    {
      "cell_type": "code",
      "source": [
        "from rdkit import Chem\n",
        "from rdkit.Chem import Descriptors, Lipinski"
      ],
      "metadata": {
        "id": "gliCJpLESmS1"
      },
      "execution_count": 417,
      "outputs": []
    },
    {
      "cell_type": "code",
      "source": [
        "def molecular_descriptors(table):\n",
        "\n",
        "  descriptors = pd.DataFrame()\n",
        "\n",
        "  mol = [Chem.MolFromSmiles(drug) for drug in table.Drug]\n",
        "\n",
        "  # Exact molecular weight of the molecule\n",
        "  Nilavo = []\n",
        "  Nilavo.append([Descriptors.ExactMolWt(i) for i in mol])\n",
        "  descriptors['Exact_MW'] = Nilavo[0]\n",
        "\n",
        "  # FpDensityMorgan1\n",
        "  Nilavo = []\n",
        "  Nilavo.append([Descriptors.FpDensityMorgan1(i) for i in mol])\n",
        "  descriptors['FpDensityMorgan1'] = Nilavo[0]\n",
        "\n",
        "  # FpDensityMorgan2\n",
        "  Nilavo = []\n",
        "  Nilavo.append([Descriptors.FpDensityMorgan2(i) for i in mol])\n",
        "  descriptors['FpDensityMorgan2'] = Nilavo[0]\n",
        "\n",
        "  # FpDensityMorgan3\n",
        "  Nilavo = []\n",
        "  Nilavo.append([Descriptors.FpDensityMorgan3(i) for i in mol])\n",
        "  descriptors['FpDensityMorgan3'] = Nilavo[0]\n",
        "\n",
        "  # Average molecular weight of the molecule ignoring hydrogens\n",
        "  Nilavo = []\n",
        "  Nilavo.append([Descriptors.HeavyAtomMolWt(i) for i in mol])\n",
        "  descriptors['HeavyAtomMolWt'] = Nilavo[0]\n",
        "\n",
        "  # MaxAbsPartialCharge\n",
        "  Nilavo = []\n",
        "  Nilavo.append([Descriptors.MaxAbsPartialCharge(i) for i in mol])\n",
        "  descriptors['MaxAbsPartialCharge'] = Nilavo[0]\n",
        "\n",
        "  # MaxPartialCharge\n",
        "  Nilavo = []\n",
        "  Nilavo.append([Descriptors.MaxPartialCharge(i) for i in mol])\n",
        "  descriptors['MaxPartialCharge'] = Nilavo[0]\n",
        "\n",
        "  # MinAbsPartialCharge\n",
        "  Nilavo = []\n",
        "  Nilavo.append([Descriptors.MinAbsPartialCharge(i) for i in mol])\n",
        "  descriptors['MinAbsPartialCharge'] = Nilavo[0]\n",
        "\n",
        "  # MinPartialCharge\n",
        "  Nilavo = []\n",
        "  Nilavo.append([Descriptors.MinPartialCharge(i) for i in mol])\n",
        "  descriptors['MinPartialCharge'] = Nilavo[0]\n",
        "\n",
        "  # Average molecular weight of the molecule\n",
        "  Nilavo = []\n",
        "  Nilavo.append([Descriptors.MolWt(i) for i in mol])\n",
        "  descriptors['MolWt'] = Nilavo[0]\n",
        "\n",
        "  # Number of radical electrons of the molecule\n",
        "  Nilavo = []\n",
        "  Nilavo.append([Descriptors.NumRadicalElectrons(i) for i in mol])\n",
        "  descriptors['NumRadicalElectrons'] = Nilavo[0]\n",
        "\n",
        "  # Number of valence electrons of the molecule\n",
        "  Nilavo = []\n",
        "  Nilavo.append([Descriptors.NumValenceElectrons(i) for i in mol])\n",
        "  descriptors['NumValenceElectrons'] = Nilavo[0]\n",
        "\n",
        "  # Log of partition coefficient\n",
        "  Nilavo = []\n",
        "  Nilavo.append([Descriptors.MolLogP(i) for i in mol])\n",
        "  descriptors['Partition_Coefficient'] = Nilavo[0]\n",
        "\n",
        "\n",
        "  ### Lipinski Descriptors ###\n",
        "  # Fraction of C atoms that are SP3 hybridized\n",
        "  Nilavo = []\n",
        "  Nilavo.append([Lipinski.FractionCSP3(i) for i in mol])\n",
        "  descriptors['FractionCSP3'] = Nilavo[0]\n",
        "\n",
        "  # Number of heavy atoms a molecule\n",
        "  Nilavo = []\n",
        "  Nilavo.append([Lipinski.HeavyAtomCount(i) for i in mol])\n",
        "  descriptors['Heavy_atoms'] = Nilavo[0]\n",
        "\n",
        "  # Number of NHs or OHs\n",
        "  Nilavo = []\n",
        "  Nilavo.append([Lipinski.NHOHCount(i) for i in mol])\n",
        "  descriptors['NHs/OHs'] = Nilavo[0]\n",
        "\n",
        "  # Number of Nitrogens and Oxygens\n",
        "  Nilavo = []\n",
        "  Nilavo.append([Lipinski.NOCount(i) for i in mol])\n",
        "  descriptors['N&O'] = Nilavo[0]\n",
        "\n",
        "  # Number of aliphatic (containing at least one non-aromatic bond) carbocycles for a molecule\n",
        "  Nilavo = []\n",
        "  Nilavo.append([Lipinski.NumAliphaticCarbocycles(i) for i in mol])\n",
        "  descriptors['Aliphatic_carbocycles'] = Nilavo[0]\n",
        "\n",
        "  # Number of aliphatic (containing at least one non-aromatic bond) heterocycles for a molecule\n",
        "  Nilavo = []\n",
        "  Nilavo.append([Lipinski.NumAliphaticHeterocycles(i) for i in mol])\n",
        "  descriptors['Aliphatic_heterocycles'] = Nilavo[0]\n",
        "\n",
        "  # Number of aliphatic (containing at least one non-aromatic bond) rings for a molecule\n",
        "  Nilavo = []\n",
        "  Nilavo.append([Lipinski.NumAliphaticRings(i) for i in mol])\n",
        "  descriptors['Aliphatic_rings'] = Nilavo[0]\n",
        "\n",
        "  # Nmber of aromatic carbocycles for a molecule\n",
        "  Nilavo = []\n",
        "  Nilavo.append([Lipinski.NumAromaticCarbocycles(i) for i in mol])\n",
        "  descriptors['Aromatic_carbocycles'] = Nilavo[0]\n",
        "\n",
        "  # Number of aromatic heterocycles for a molecule\n",
        "  Nilavo = []\n",
        "  Nilavo.append([Lipinski.NumAromaticHeterocycles(i) for i in mol])\n",
        "  descriptors['Aromatic_heterocycles'] = Nilavo[0]\n",
        "\n",
        "  # Number of aromatic rings for a molecule\n",
        "  Nilavo = []\n",
        "  Nilavo.append([Lipinski.NumAromaticRings(i) for i in mol])\n",
        "  descriptors['Aromatic_rings'] = Nilavo[0]\n",
        "\n",
        "  # Number of Hydrogen Bond Acceptors\n",
        "  Nilavo = []\n",
        "  Nilavo.append([Lipinski.NumHAcceptors(i) for i in mol])\n",
        "  descriptors['HAcceptors'] = Nilavo[0]\n",
        "\n",
        "  # Number of Hydrogen Bond Donors\n",
        "  Nilavo = []\n",
        "  Nilavo.append([Lipinski.NumHDonors(i) for i in mol])\n",
        "  descriptors['HDonors'] = Nilavo[0]\n",
        "\n",
        "  # Number of Heteroatoms\n",
        "  Nilavo = []\n",
        "  Nilavo.append([Lipinski.NumHeteroatoms(i) for i in mol])\n",
        "  descriptors['Heteroatoms'] = Nilavo[0]\n",
        "\n",
        "  # Number of Rotatable Bonds\n",
        "  Nilavo = []\n",
        "  Nilavo.append([Lipinski.NumRotatableBonds(i) for i in mol])\n",
        "  descriptors['Rotatable_Bonds'] = Nilavo[0]\n",
        "\n",
        "  # Number of saturated carbocycles for a molecule\n",
        "  Nilavo = []\n",
        "  Nilavo.append([Lipinski.NumSaturatedCarbocycles(i) for i in mol])\n",
        "  descriptors['Saturated_Carbocycles'] = Nilavo[0]\n",
        "\n",
        "  # Number of saturated heterocycles for a molecule\n",
        "  Nilavo = []\n",
        "  Nilavo.append([Lipinski.NumSaturatedHeterocycles(i) for i in mol])\n",
        "  descriptors['Saturated_Heterocycles'] = Nilavo[0]\n",
        "\n",
        "  # Number of saturated rings for a molecule\n",
        "  Nilavo = []\n",
        "  Nilavo.append([Lipinski.NumSaturatedRings(i) for i in mol])\n",
        "  descriptors['Saturated_Rings'] = Nilavo[0]\n",
        "\n",
        "  # Number of rings for a molecule\n",
        "  Nilavo = []\n",
        "  Nilavo.append([Lipinski.RingCount(i) for i in mol])\n",
        "  descriptors['Rings'] = Nilavo[0]\n",
        "\n",
        "  return descriptors"
      ],
      "metadata": {
        "id": "QcFAqcxqSqUZ"
      },
      "execution_count": 418,
      "outputs": []
    },
    {
      "cell_type": "code",
      "source": [
        "# features extraction of traning set\n",
        "x_train = molecular_descriptors(x_train)\n",
        "print(x_train.shape)\n",
        "x_train.head(2)"
      ],
      "metadata": {
        "colab": {
          "base_uri": "https://localhost:8080/",
          "height": 222
        },
        "id": "6Swb8r6wT95l",
        "outputId": "ddf4e34d-574a-4069-c5a9-7d0acef42949"
      },
      "execution_count": 419,
      "outputs": [
        {
          "output_type": "stream",
          "name": "stdout",
          "text": [
            "(582, 31)\n"
          ]
        },
        {
          "output_type": "execute_result",
          "data": {
            "text/plain": [
              "     Exact_MW  FpDensityMorgan1  FpDensityMorgan2  FpDensityMorgan3  \\\n",
              "0  284.134720          0.950000          1.450000          1.950000   \n",
              "1  697.311163          0.686275          1.294118          1.980392   \n",
              "\n",
              "   HeavyAtomMolWt  MaxAbsPartialCharge  MaxPartialCharge  MinAbsPartialCharge  \\\n",
              "0         264.268             0.338065          0.055290             0.055290   \n",
              "1         654.445             0.507967          0.333557             0.333557   \n",
              "\n",
              "   MinPartialCharge    MolWt  ...  Aromatic_heterocycles  Aromatic_rings  \\\n",
              "0         -0.338065  284.428  ...                      0               2   \n",
              "1         -0.507967  697.789  ...                      0               3   \n",
              "\n",
              "   HAcceptors  HDonors  Heteroatoms  Rotatable_Bonds  Saturated_Carbocycles  \\\n",
              "0           3        0            3                3                      0   \n",
              "1           8        6           13                6                      0   \n",
              "\n",
              "   Saturated_Heterocycles  Saturated_Rings  Rings  \n",
              "0                       0                0      3  \n",
              "1                       0                0      4  \n",
              "\n",
              "[2 rows x 31 columns]"
            ],
            "text/html": [
              "\n",
              "  <div id=\"df-844be8be-37e2-4040-a49c-9a849809a41b\">\n",
              "    <div class=\"colab-df-container\">\n",
              "      <div>\n",
              "<style scoped>\n",
              "    .dataframe tbody tr th:only-of-type {\n",
              "        vertical-align: middle;\n",
              "    }\n",
              "\n",
              "    .dataframe tbody tr th {\n",
              "        vertical-align: top;\n",
              "    }\n",
              "\n",
              "    .dataframe thead th {\n",
              "        text-align: right;\n",
              "    }\n",
              "</style>\n",
              "<table border=\"1\" class=\"dataframe\">\n",
              "  <thead>\n",
              "    <tr style=\"text-align: right;\">\n",
              "      <th></th>\n",
              "      <th>Exact_MW</th>\n",
              "      <th>FpDensityMorgan1</th>\n",
              "      <th>FpDensityMorgan2</th>\n",
              "      <th>FpDensityMorgan3</th>\n",
              "      <th>HeavyAtomMolWt</th>\n",
              "      <th>MaxAbsPartialCharge</th>\n",
              "      <th>MaxPartialCharge</th>\n",
              "      <th>MinAbsPartialCharge</th>\n",
              "      <th>MinPartialCharge</th>\n",
              "      <th>MolWt</th>\n",
              "      <th>...</th>\n",
              "      <th>Aromatic_heterocycles</th>\n",
              "      <th>Aromatic_rings</th>\n",
              "      <th>HAcceptors</th>\n",
              "      <th>HDonors</th>\n",
              "      <th>Heteroatoms</th>\n",
              "      <th>Rotatable_Bonds</th>\n",
              "      <th>Saturated_Carbocycles</th>\n",
              "      <th>Saturated_Heterocycles</th>\n",
              "      <th>Saturated_Rings</th>\n",
              "      <th>Rings</th>\n",
              "    </tr>\n",
              "  </thead>\n",
              "  <tbody>\n",
              "    <tr>\n",
              "      <th>0</th>\n",
              "      <td>284.134720</td>\n",
              "      <td>0.950000</td>\n",
              "      <td>1.450000</td>\n",
              "      <td>1.950000</td>\n",
              "      <td>264.268</td>\n",
              "      <td>0.338065</td>\n",
              "      <td>0.055290</td>\n",
              "      <td>0.055290</td>\n",
              "      <td>-0.338065</td>\n",
              "      <td>284.428</td>\n",
              "      <td>...</td>\n",
              "      <td>0</td>\n",
              "      <td>2</td>\n",
              "      <td>3</td>\n",
              "      <td>0</td>\n",
              "      <td>3</td>\n",
              "      <td>3</td>\n",
              "      <td>0</td>\n",
              "      <td>0</td>\n",
              "      <td>0</td>\n",
              "      <td>3</td>\n",
              "    </tr>\n",
              "    <tr>\n",
              "      <th>1</th>\n",
              "      <td>697.311163</td>\n",
              "      <td>0.686275</td>\n",
              "      <td>1.294118</td>\n",
              "      <td>1.980392</td>\n",
              "      <td>654.445</td>\n",
              "      <td>0.507967</td>\n",
              "      <td>0.333557</td>\n",
              "      <td>0.333557</td>\n",
              "      <td>-0.507967</td>\n",
              "      <td>697.789</td>\n",
              "      <td>...</td>\n",
              "      <td>0</td>\n",
              "      <td>3</td>\n",
              "      <td>8</td>\n",
              "      <td>6</td>\n",
              "      <td>13</td>\n",
              "      <td>6</td>\n",
              "      <td>0</td>\n",
              "      <td>0</td>\n",
              "      <td>0</td>\n",
              "      <td>4</td>\n",
              "    </tr>\n",
              "  </tbody>\n",
              "</table>\n",
              "<p>2 rows × 31 columns</p>\n",
              "</div>\n",
              "      <button class=\"colab-df-convert\" onclick=\"convertToInteractive('df-844be8be-37e2-4040-a49c-9a849809a41b')\"\n",
              "              title=\"Convert this dataframe to an interactive table.\"\n",
              "              style=\"display:none;\">\n",
              "        \n",
              "  <svg xmlns=\"http://www.w3.org/2000/svg\" height=\"24px\"viewBox=\"0 0 24 24\"\n",
              "       width=\"24px\">\n",
              "    <path d=\"M0 0h24v24H0V0z\" fill=\"none\"/>\n",
              "    <path d=\"M18.56 5.44l.94 2.06.94-2.06 2.06-.94-2.06-.94-.94-2.06-.94 2.06-2.06.94zm-11 1L8.5 8.5l.94-2.06 2.06-.94-2.06-.94L8.5 2.5l-.94 2.06-2.06.94zm10 10l.94 2.06.94-2.06 2.06-.94-2.06-.94-.94-2.06-.94 2.06-2.06.94z\"/><path d=\"M17.41 7.96l-1.37-1.37c-.4-.4-.92-.59-1.43-.59-.52 0-1.04.2-1.43.59L10.3 9.45l-7.72 7.72c-.78.78-.78 2.05 0 2.83L4 21.41c.39.39.9.59 1.41.59.51 0 1.02-.2 1.41-.59l7.78-7.78 2.81-2.81c.8-.78.8-2.07 0-2.86zM5.41 20L4 18.59l7.72-7.72 1.47 1.35L5.41 20z\"/>\n",
              "  </svg>\n",
              "      </button>\n",
              "      \n",
              "  <style>\n",
              "    .colab-df-container {\n",
              "      display:flex;\n",
              "      flex-wrap:wrap;\n",
              "      gap: 12px;\n",
              "    }\n",
              "\n",
              "    .colab-df-convert {\n",
              "      background-color: #E8F0FE;\n",
              "      border: none;\n",
              "      border-radius: 50%;\n",
              "      cursor: pointer;\n",
              "      display: none;\n",
              "      fill: #1967D2;\n",
              "      height: 32px;\n",
              "      padding: 0 0 0 0;\n",
              "      width: 32px;\n",
              "    }\n",
              "\n",
              "    .colab-df-convert:hover {\n",
              "      background-color: #E2EBFA;\n",
              "      box-shadow: 0px 1px 2px rgba(60, 64, 67, 0.3), 0px 1px 3px 1px rgba(60, 64, 67, 0.15);\n",
              "      fill: #174EA6;\n",
              "    }\n",
              "\n",
              "    [theme=dark] .colab-df-convert {\n",
              "      background-color: #3B4455;\n",
              "      fill: #D2E3FC;\n",
              "    }\n",
              "\n",
              "    [theme=dark] .colab-df-convert:hover {\n",
              "      background-color: #434B5C;\n",
              "      box-shadow: 0px 1px 3px 1px rgba(0, 0, 0, 0.15);\n",
              "      filter: drop-shadow(0px 1px 2px rgba(0, 0, 0, 0.3));\n",
              "      fill: #FFFFFF;\n",
              "    }\n",
              "  </style>\n",
              "\n",
              "      <script>\n",
              "        const buttonEl =\n",
              "          document.querySelector('#df-844be8be-37e2-4040-a49c-9a849809a41b button.colab-df-convert');\n",
              "        buttonEl.style.display =\n",
              "          google.colab.kernel.accessAllowed ? 'block' : 'none';\n",
              "\n",
              "        async function convertToInteractive(key) {\n",
              "          const element = document.querySelector('#df-844be8be-37e2-4040-a49c-9a849809a41b');\n",
              "          const dataTable =\n",
              "            await google.colab.kernel.invokeFunction('convertToInteractive',\n",
              "                                                     [key], {});\n",
              "          if (!dataTable) return;\n",
              "\n",
              "          const docLinkHtml = 'Like what you see? Visit the ' +\n",
              "            '<a target=\"_blank\" href=https://colab.research.google.com/notebooks/data_table.ipynb>data table notebook</a>'\n",
              "            + ' to learn more about interactive tables.';\n",
              "          element.innerHTML = '';\n",
              "          dataTable['output_type'] = 'display_data';\n",
              "          await google.colab.output.renderOutput(dataTable, element);\n",
              "          const docLink = document.createElement('div');\n",
              "          docLink.innerHTML = docLinkHtml;\n",
              "          element.appendChild(docLink);\n",
              "        }\n",
              "      </script>\n",
              "    </div>\n",
              "  </div>\n",
              "  "
            ]
          },
          "metadata": {},
          "execution_count": 419
        }
      ]
    },
    {
      "cell_type": "code",
      "source": [
        "# feature extraction of validation set \n",
        "x_valid = molecular_descriptors(x_valid)\n",
        "print(x_valid.shape)\n",
        "x_valid.head(2)"
      ],
      "metadata": {
        "colab": {
          "base_uri": "https://localhost:8080/",
          "height": 222
        },
        "id": "OXzFM2Oz5G59",
        "outputId": "4fc6eb3d-00f8-4bbc-ba6b-4a28fd4d2d48"
      },
      "execution_count": 420,
      "outputs": [
        {
          "output_type": "stream",
          "name": "stdout",
          "text": [
            "(146, 31)\n"
          ]
        },
        {
          "output_type": "execute_result",
          "data": {
            "text/plain": [
              "     Exact_MW  FpDensityMorgan1  FpDensityMorgan2  FpDensityMorgan3  \\\n",
              "0  521.263819          1.000000          1.815789          2.631579   \n",
              "1  249.172879          1.333333          2.111111          2.777778   \n",
              "\n",
              "   HeavyAtomMolWt  MaxAbsPartialCharge  MaxPartialCharge  MinAbsPartialCharge  \\\n",
              "0         486.338             0.486639          0.335262             0.335262   \n",
              "1         226.170             0.507954          0.115459             0.115459   \n",
              "\n",
              "   MinPartialCharge    MolWt  ...  Aromatic_heterocycles  Aromatic_rings  \\\n",
              "0         -0.486639  521.618  ...                      0               2   \n",
              "1         -0.507954  249.354  ...                      0               1   \n",
              "\n",
              "   HAcceptors  HDonors  Heteroatoms  Rotatable_Bonds  Saturated_Carbocycles  \\\n",
              "0           7        1           10                6                      0   \n",
              "1           3        2            3                3                      1   \n",
              "\n",
              "   Saturated_Heterocycles  Saturated_Rings  Rings  \n",
              "0                       2                2      5  \n",
              "1                       0                1      2  \n",
              "\n",
              "[2 rows x 31 columns]"
            ],
            "text/html": [
              "\n",
              "  <div id=\"df-8fc7753c-8aac-4aa7-8939-f0cf480eda66\">\n",
              "    <div class=\"colab-df-container\">\n",
              "      <div>\n",
              "<style scoped>\n",
              "    .dataframe tbody tr th:only-of-type {\n",
              "        vertical-align: middle;\n",
              "    }\n",
              "\n",
              "    .dataframe tbody tr th {\n",
              "        vertical-align: top;\n",
              "    }\n",
              "\n",
              "    .dataframe thead th {\n",
              "        text-align: right;\n",
              "    }\n",
              "</style>\n",
              "<table border=\"1\" class=\"dataframe\">\n",
              "  <thead>\n",
              "    <tr style=\"text-align: right;\">\n",
              "      <th></th>\n",
              "      <th>Exact_MW</th>\n",
              "      <th>FpDensityMorgan1</th>\n",
              "      <th>FpDensityMorgan2</th>\n",
              "      <th>FpDensityMorgan3</th>\n",
              "      <th>HeavyAtomMolWt</th>\n",
              "      <th>MaxAbsPartialCharge</th>\n",
              "      <th>MaxPartialCharge</th>\n",
              "      <th>MinAbsPartialCharge</th>\n",
              "      <th>MinPartialCharge</th>\n",
              "      <th>MolWt</th>\n",
              "      <th>...</th>\n",
              "      <th>Aromatic_heterocycles</th>\n",
              "      <th>Aromatic_rings</th>\n",
              "      <th>HAcceptors</th>\n",
              "      <th>HDonors</th>\n",
              "      <th>Heteroatoms</th>\n",
              "      <th>Rotatable_Bonds</th>\n",
              "      <th>Saturated_Carbocycles</th>\n",
              "      <th>Saturated_Heterocycles</th>\n",
              "      <th>Saturated_Rings</th>\n",
              "      <th>Rings</th>\n",
              "    </tr>\n",
              "  </thead>\n",
              "  <tbody>\n",
              "    <tr>\n",
              "      <th>0</th>\n",
              "      <td>521.263819</td>\n",
              "      <td>1.000000</td>\n",
              "      <td>1.815789</td>\n",
              "      <td>2.631579</td>\n",
              "      <td>486.338</td>\n",
              "      <td>0.486639</td>\n",
              "      <td>0.335262</td>\n",
              "      <td>0.335262</td>\n",
              "      <td>-0.486639</td>\n",
              "      <td>521.618</td>\n",
              "      <td>...</td>\n",
              "      <td>0</td>\n",
              "      <td>2</td>\n",
              "      <td>7</td>\n",
              "      <td>1</td>\n",
              "      <td>10</td>\n",
              "      <td>6</td>\n",
              "      <td>0</td>\n",
              "      <td>2</td>\n",
              "      <td>2</td>\n",
              "      <td>5</td>\n",
              "    </tr>\n",
              "    <tr>\n",
              "      <th>1</th>\n",
              "      <td>249.172879</td>\n",
              "      <td>1.333333</td>\n",
              "      <td>2.111111</td>\n",
              "      <td>2.777778</td>\n",
              "      <td>226.170</td>\n",
              "      <td>0.507954</td>\n",
              "      <td>0.115459</td>\n",
              "      <td>0.115459</td>\n",
              "      <td>-0.507954</td>\n",
              "      <td>249.354</td>\n",
              "      <td>...</td>\n",
              "      <td>0</td>\n",
              "      <td>1</td>\n",
              "      <td>3</td>\n",
              "      <td>2</td>\n",
              "      <td>3</td>\n",
              "      <td>3</td>\n",
              "      <td>1</td>\n",
              "      <td>0</td>\n",
              "      <td>1</td>\n",
              "      <td>2</td>\n",
              "    </tr>\n",
              "  </tbody>\n",
              "</table>\n",
              "<p>2 rows × 31 columns</p>\n",
              "</div>\n",
              "      <button class=\"colab-df-convert\" onclick=\"convertToInteractive('df-8fc7753c-8aac-4aa7-8939-f0cf480eda66')\"\n",
              "              title=\"Convert this dataframe to an interactive table.\"\n",
              "              style=\"display:none;\">\n",
              "        \n",
              "  <svg xmlns=\"http://www.w3.org/2000/svg\" height=\"24px\"viewBox=\"0 0 24 24\"\n",
              "       width=\"24px\">\n",
              "    <path d=\"M0 0h24v24H0V0z\" fill=\"none\"/>\n",
              "    <path d=\"M18.56 5.44l.94 2.06.94-2.06 2.06-.94-2.06-.94-.94-2.06-.94 2.06-2.06.94zm-11 1L8.5 8.5l.94-2.06 2.06-.94-2.06-.94L8.5 2.5l-.94 2.06-2.06.94zm10 10l.94 2.06.94-2.06 2.06-.94-2.06-.94-.94-2.06-.94 2.06-2.06.94z\"/><path d=\"M17.41 7.96l-1.37-1.37c-.4-.4-.92-.59-1.43-.59-.52 0-1.04.2-1.43.59L10.3 9.45l-7.72 7.72c-.78.78-.78 2.05 0 2.83L4 21.41c.39.39.9.59 1.41.59.51 0 1.02-.2 1.41-.59l7.78-7.78 2.81-2.81c.8-.78.8-2.07 0-2.86zM5.41 20L4 18.59l7.72-7.72 1.47 1.35L5.41 20z\"/>\n",
              "  </svg>\n",
              "      </button>\n",
              "      \n",
              "  <style>\n",
              "    .colab-df-container {\n",
              "      display:flex;\n",
              "      flex-wrap:wrap;\n",
              "      gap: 12px;\n",
              "    }\n",
              "\n",
              "    .colab-df-convert {\n",
              "      background-color: #E8F0FE;\n",
              "      border: none;\n",
              "      border-radius: 50%;\n",
              "      cursor: pointer;\n",
              "      display: none;\n",
              "      fill: #1967D2;\n",
              "      height: 32px;\n",
              "      padding: 0 0 0 0;\n",
              "      width: 32px;\n",
              "    }\n",
              "\n",
              "    .colab-df-convert:hover {\n",
              "      background-color: #E2EBFA;\n",
              "      box-shadow: 0px 1px 2px rgba(60, 64, 67, 0.3), 0px 1px 3px 1px rgba(60, 64, 67, 0.15);\n",
              "      fill: #174EA6;\n",
              "    }\n",
              "\n",
              "    [theme=dark] .colab-df-convert {\n",
              "      background-color: #3B4455;\n",
              "      fill: #D2E3FC;\n",
              "    }\n",
              "\n",
              "    [theme=dark] .colab-df-convert:hover {\n",
              "      background-color: #434B5C;\n",
              "      box-shadow: 0px 1px 3px 1px rgba(0, 0, 0, 0.15);\n",
              "      filter: drop-shadow(0px 1px 2px rgba(0, 0, 0, 0.3));\n",
              "      fill: #FFFFFF;\n",
              "    }\n",
              "  </style>\n",
              "\n",
              "      <script>\n",
              "        const buttonEl =\n",
              "          document.querySelector('#df-8fc7753c-8aac-4aa7-8939-f0cf480eda66 button.colab-df-convert');\n",
              "        buttonEl.style.display =\n",
              "          google.colab.kernel.accessAllowed ? 'block' : 'none';\n",
              "\n",
              "        async function convertToInteractive(key) {\n",
              "          const element = document.querySelector('#df-8fc7753c-8aac-4aa7-8939-f0cf480eda66');\n",
              "          const dataTable =\n",
              "            await google.colab.kernel.invokeFunction('convertToInteractive',\n",
              "                                                     [key], {});\n",
              "          if (!dataTable) return;\n",
              "\n",
              "          const docLinkHtml = 'Like what you see? Visit the ' +\n",
              "            '<a target=\"_blank\" href=https://colab.research.google.com/notebooks/data_table.ipynb>data table notebook</a>'\n",
              "            + ' to learn more about interactive tables.';\n",
              "          element.innerHTML = '';\n",
              "          dataTable['output_type'] = 'display_data';\n",
              "          await google.colab.output.renderOutput(dataTable, element);\n",
              "          const docLink = document.createElement('div');\n",
              "          docLink.innerHTML = docLinkHtml;\n",
              "          element.appendChild(docLink);\n",
              "        }\n",
              "      </script>\n",
              "    </div>\n",
              "  </div>\n",
              "  "
            ]
          },
          "metadata": {},
          "execution_count": 420
        }
      ]
    },
    {
      "cell_type": "code",
      "source": [
        "# Check correlation between each feature column and target column(Y)\n",
        "corr = []\n",
        "for col in x_train.columns:\n",
        "  corr.append(x_train[col].corr(y_train))"
      ],
      "metadata": {
        "id": "ZPmG0bu1dJs1"
      },
      "execution_count": 421,
      "outputs": []
    },
    {
      "cell_type": "code",
      "source": [
        "corr = pd.Series(corr, index= x_train.columns)\n",
        "corr.sort_values(ascending=False, inplace=True)\n",
        "corr"
      ],
      "metadata": {
        "colab": {
          "base_uri": "https://localhost:8080/"
        },
        "id": "W0EI2-xWeL1h",
        "outputId": "81c2ded1-ee38-43c9-8c6f-0662a189ac8b"
      },
      "execution_count": 422,
      "outputs": [
        {
          "output_type": "execute_result",
          "data": {
            "text/plain": [
              "MinPartialCharge          0.069712\n",
              "Saturated_Heterocycles    0.051305\n",
              "Partition_Coefficient     0.050273\n",
              "FractionCSP3              0.035322\n",
              "Aliphatic_rings           0.032261\n",
              "Saturated_Rings           0.029886\n",
              "Rings                     0.024586\n",
              "Aliphatic_heterocycles    0.024002\n",
              "Aliphatic_carbocycles     0.022392\n",
              "Heavy_atoms               0.010245\n",
              "Aromatic_carbocycles      0.008940\n",
              "NumValenceElectrons       0.008469\n",
              "FpDensityMorgan3          0.008430\n",
              "Exact_MW                  0.004264\n",
              "MolWt                     0.004240\n",
              "HeavyAtomMolWt            0.002143\n",
              "Aromatic_rings           -0.005470\n",
              "Saturated_Carbocycles    -0.008126\n",
              "FpDensityMorgan2         -0.011875\n",
              "Aromatic_heterocycles    -0.019246\n",
              "FpDensityMorgan1         -0.023507\n",
              "HDonors                  -0.024824\n",
              "N&O                      -0.027703\n",
              "Heteroatoms              -0.031337\n",
              "MaxPartialCharge         -0.031677\n",
              "Rotatable_Bonds          -0.032233\n",
              "MinAbsPartialCharge      -0.037262\n",
              "NHs/OHs                  -0.037289\n",
              "HAcceptors               -0.058528\n",
              "MaxAbsPartialCharge      -0.066036\n",
              "NumRadicalElectrons            NaN\n",
              "dtype: float64"
            ]
          },
          "metadata": {},
          "execution_count": 422
        }
      ]
    },
    {
      "cell_type": "code",
      "source": [
        "# Drop less-informative features\n",
        "\n",
        "x_train.drop(columns=['NumRadicalElectrons', 'Aromatic_carbocycles', 'NumValenceElectrons', 'FpDensityMorgan3', 'Exact_MW', 'MolWt', 'HeavyAtomMolWt', 'Aromatic_rings', 'Saturated_Carbocycles'], inplace = True)\n",
        "x_valid.drop(columns=['NumRadicalElectrons', 'Aromatic_carbocycles', 'NumValenceElectrons', 'FpDensityMorgan3', 'Exact_MW', 'MolWt', 'HeavyAtomMolWt', 'Aromatic_rings', 'Saturated_Carbocycles'], inplace = True)"
      ],
      "metadata": {
        "id": "ZXMdDXMAep7E"
      },
      "execution_count": 423,
      "outputs": []
    },
    {
      "cell_type": "code",
      "source": [
        "print(x_train.shape)\n",
        "print(x_valid.shape)"
      ],
      "metadata": {
        "colab": {
          "base_uri": "https://localhost:8080/"
        },
        "id": "NGFEb3rekFaa",
        "outputId": "03139787-e26d-451d-b38b-beaedb6530e7"
      },
      "execution_count": 424,
      "outputs": [
        {
          "output_type": "stream",
          "name": "stdout",
          "text": [
            "(582, 22)\n",
            "(146, 22)\n"
          ]
        }
      ]
    },
    {
      "cell_type": "markdown",
      "source": [
        "# Build ML model"
      ],
      "metadata": {
        "id": "6tPQbuktj4Ab"
      }
    },
    {
      "cell_type": "code",
      "source": [
        "from sklearn.linear_model import LinearRegression\n",
        "from sklearn.neighbors import KNeighborsRegressor\n",
        "from sklearn.svm import SVR\n",
        "from sklearn.tree import DecisionTreeRegressor\n",
        "from sklearn.ensemble import BaggingRegressor, RandomForestRegressor, ExtraTreesRegressor, GradientBoostingRegressor, AdaBoostRegressor\n",
        "\n",
        "from sklearn.metrics import r2_score as r2\n",
        "from sklearn.metrics import mean_absolute_error as mae"
      ],
      "metadata": {
        "id": "7b4pUZIxoAJS"
      },
      "execution_count": 425,
      "outputs": []
    },
    {
      "cell_type": "code",
      "source": [
        "lin = LinearRegression()\n",
        "knn = KNeighborsRegressor()\n",
        "svr = SVR()\n",
        "tree = DecisionTreeRegressor(random_state=0)\n",
        "bag = BaggingRegressor(DecisionTreeRegressor(random_state=0), random_state=0)\n",
        "forest = RandomForestRegressor(random_state=0)\n",
        "et = ExtraTreesRegressor(random_state=0)\n",
        "grad = GradientBoostingRegressor(random_state=0)\n",
        "ada = AdaBoostRegressor(DecisionTreeRegressor(random_state=0),random_state=0)"
      ],
      "metadata": {
        "id": "pyWUnTULoK1u"
      },
      "execution_count": 426,
      "outputs": []
    },
    {
      "cell_type": "code",
      "source": [
        "MAE = []\n",
        "R2 = []\n",
        "for i in (lin, knn, svr, tree, bag, forest, et, grad, ada):\n",
        "  i.fit(x_train, y_train)\n",
        "  y_valid_pred = i.predict(x_valid)\n",
        "  \n",
        "  R2.append(r2(y_valid, y_valid_pred))\n",
        "  MAE.append(mae(y_valid, y_valid_pred))"
      ],
      "metadata": {
        "id": "jke-vtAC8uPj"
      },
      "execution_count": 427,
      "outputs": []
    },
    {
      "cell_type": "code",
      "source": [
        "R2"
      ],
      "metadata": {
        "colab": {
          "base_uri": "https://localhost:8080/"
        },
        "id": "JdjODSkdpXt7",
        "outputId": "5e8cccea-c0f6-497c-b0ee-9195a1391e15"
      },
      "execution_count": 428,
      "outputs": [
        {
          "output_type": "execute_result",
          "data": {
            "text/plain": [
              "[0.4650294558503345,\n",
              " 0.5999106528707694,\n",
              " 0.5783950548615845,\n",
              " 0.41365344779098867,\n",
              " 0.6930089404095442,\n",
              " 0.7342879278396562,\n",
              " 0.7093771968606902,\n",
              " 0.7012754075964083,\n",
              " 0.7347059385172129]"
            ]
          },
          "metadata": {},
          "execution_count": 428
        }
      ]
    },
    {
      "cell_type": "code",
      "source": [
        "pd.Series(R2, index=('MLR', 'KNN', 'SVR', 'Decision-tree', 'Bagging', 'Random-forest', 'Extra-tree', 'Gradient-Boosting', 'Ada-Boost')).plot(grid=True, figsize=(8,5))\n",
        "plt.xticks(rotation = 60)\n",
        "plt.ylabel('R2')\n",
        "plt.show()"
      ],
      "metadata": {
        "colab": {
          "base_uri": "https://localhost:8080/",
          "height": 396
        },
        "id": "n_nZwZ6aR1LS",
        "outputId": "267450df-c7bc-463c-b980-6075745aab7e"
      },
      "execution_count": 429,
      "outputs": [
        {
          "output_type": "display_data",
          "data": {
            "text/plain": [
              "<Figure size 576x360 with 1 Axes>"
            ],
            "image/png": "[encoded data removed]"
          },
          "metadata": {
            "needs_background": "light"
          }
        }
      ]
    },
    {
      "cell_type": "code",
      "source": [
        "MAE"
      ],
      "metadata": {
        "colab": {
          "base_uri": "https://localhost:8080/"
        },
        "id": "MqkOrIe5pZBW",
        "outputId": "f0f5032b-351a-4891-ac29-f2132e63c0ca"
      },
      "execution_count": 430,
      "outputs": [
        {
          "output_type": "execute_result",
          "data": {
            "text/plain": [
              "[0.4258110854060971,\n",
              " 0.36473333890410964,\n",
              " 0.3949327503343581,\n",
              " 0.43540283287671233,\n",
              " 0.31730455009116115,\n",
              " 0.3047280650647914,\n",
              " 0.31050218601027396,\n",
              " 0.3287537938615003,\n",
              " 0.31025942084329156]"
            ]
          },
          "metadata": {},
          "execution_count": 430
        }
      ]
    },
    {
      "cell_type": "code",
      "source": [
        "pd.Series(MAE, index=('MLR', 'KNN', 'SVR', 'Decision-tree', 'Bagging', 'Random-forest', 'Extra-tree', 'Gradient-Boosting', 'Ada-Boost')).plot(grid=True, figsize=(8,5))\n",
        "plt.xticks(rotation = 60)\n",
        "plt.ylabel('MAE')\n",
        "plt.show()"
      ],
      "metadata": {
        "colab": {
          "base_uri": "https://localhost:8080/",
          "height": 393
        },
        "id": "GunGDug68uBv",
        "outputId": "2d3f48fc-c945-4099-b365-16ce295060c5"
      },
      "execution_count": 431,
      "outputs": [
        {
          "output_type": "display_data",
          "data": {
            "text/plain": [
              "<Figure size 576x360 with 1 Axes>"
            ],
            "image/png": "[encoded data removed]"
          },
          "metadata": {
            "needs_background": "light"
          }
        }
      ]
    },
    {
      "cell_type": "markdown",
      "source": [
        "I can easily see, Bagging, Random-forest, Extra-tree, Gradient-Boosting and Ada-Boost this 5 models gives best statistical results. So, I will try to tune parameters of this models to get better results."
      ],
      "metadata": {
        "id": "3kgM5fDMkDcH"
      }
    },
    {
      "cell_type": "markdown",
      "source": [
        "## Bagging parameter tuning"
      ],
      "metadata": {
        "id": "SJ3cY5MhF5CF"
      }
    },
    {
      "cell_type": "code",
      "source": [
        "e = []\n",
        "for i in np.arange(50,500,50):   \n",
        "  bag = BaggingRegressor(DecisionTreeRegressor(random_state=0), random_state=0, n_estimators = i)\n",
        "  bag.fit(x_train, y_train)\n",
        "  y_valid_pred = bag.predict(x_valid)\n",
        "\n",
        "  e.append(r2(y_valid, y_valid_pred))"
      ],
      "metadata": {
        "id": "zhEhFnJn9vdo"
      },
      "execution_count": 432,
      "outputs": []
    },
    {
      "cell_type": "code",
      "source": [
        "pd.Series(e, index=np.arange(50,500,50)).plot(grid= True, figsize=(8,5))\n",
        "plt.xlabel('n_estimators')\n",
        "plt.ylabel('R2')\n",
        "plt.show()"
      ],
      "metadata": {
        "colab": {
          "base_uri": "https://localhost:8080/",
          "height": 335
        },
        "id": "1-vu7x1R9vax",
        "outputId": "97b27f1f-b31d-4725-9875-fdb8ddae8145"
      },
      "execution_count": 433,
      "outputs": [
        {
          "output_type": "display_data",
          "data": {
            "text/plain": [
              "<Figure size 576x360 with 1 Axes>"
            ],
            "image/png": "[encoded data removed]"
          },
          "metadata": {
            "needs_background": "light"
          }
        }
      ]
    },
    {
      "cell_type": "code",
      "source": [
        "# highest r2_score at n_estimators=350\n",
        "bag = BaggingRegressor(DecisionTreeRegressor(random_state=0), n_estimators = 350, random_state=0)\n",
        "\n",
        "bag.fit(x_train, y_train)\n",
        "y_valid_pred = bag.predict(x_valid)\n",
        "\n",
        "print('R2 :', r2(y_valid, y_valid_pred))\n",
        "print('MAE :', mae(y_valid, y_valid_pred))"
      ],
      "metadata": {
        "colab": {
          "base_uri": "https://localhost:8080/"
        },
        "id": "UAXI7PFv2nsA",
        "outputId": "4d9dc5f0-de2a-4b2f-b72e-bb0d5293ad70"
      },
      "execution_count": 434,
      "outputs": [
        {
          "output_type": "stream",
          "name": "stdout",
          "text": [
            "R2 : 0.7318806990406433\n",
            "MAE : 0.30791334073100335\n"
          ]
        }
      ]
    },
    {
      "cell_type": "markdown",
      "source": [
        "## Random-forest parameter tuning"
      ],
      "metadata": {
        "id": "G4LFEerUGBip"
      }
    },
    {
      "cell_type": "code",
      "source": [
        "e = []\n",
        "for i in np.arange(50,500,50):   \n",
        "  rf = RandomForestRegressor(random_state=0, n_estimators = i)\n",
        "  rf.fit(x_train, y_train)\n",
        "  y_valid_pred = rf.predict(x_valid)\n",
        "\n",
        "  e.append(r2(y_valid, y_valid_pred))"
      ],
      "metadata": {
        "id": "9iGds4rIGCxM"
      },
      "execution_count": 435,
      "outputs": []
    },
    {
      "cell_type": "code",
      "source": [
        "pd.Series(e, index=np.arange(50,500,50)).plot(grid= True, figsize=(8,5))\n",
        "plt.xlabel('n_estimators')\n",
        "plt.ylabel('R2')\n",
        "plt.show()"
      ],
      "metadata": {
        "colab": {
          "base_uri": "https://localhost:8080/",
          "height": 335
        },
        "id": "10BLGW7nGCuN",
        "outputId": "3d601f67-c4fe-4eb2-fef7-3f8966cb4369"
      },
      "execution_count": 436,
      "outputs": [
        {
          "output_type": "display_data",
          "data": {
            "text/plain": [
              "<Figure size 576x360 with 1 Axes>"
            ],
            "image/png": "[encoded data removed]"
          },
          "metadata": {
            "needs_background": "light"
          }
        }
      ]
    },
    {
      "cell_type": "code",
      "source": [
        "# highest r2_score at n_estimators=100\n",
        "rf = RandomForestRegressor(n_estimators = 100, random_state=0)\n",
        "\n",
        "rf.fit(x_train, y_train)\n",
        "y_valid_pred = rf.predict(x_valid)\n",
        "\n",
        "print('R2 :', r2(y_valid, y_valid_pred))\n",
        "print('MAE :', mae(y_valid, y_valid_pred))"
      ],
      "metadata": {
        "colab": {
          "base_uri": "https://localhost:8080/"
        },
        "id": "kGD5B-aoGCrx",
        "outputId": "74a8c743-ea45-4c44-c61f-48b88a83a3de"
      },
      "execution_count": 437,
      "outputs": [
        {
          "output_type": "stream",
          "name": "stdout",
          "text": [
            "R2 : 0.7342879278396562\n",
            "MAE : 0.3047280650647914\n"
          ]
        }
      ]
    },
    {
      "cell_type": "markdown",
      "source": [
        "##Extra-tree parameter tuning"
      ],
      "metadata": {
        "id": "mDRB6Aw1Hlxh"
      }
    },
    {
      "cell_type": "code",
      "source": [
        "e = []\n",
        "for i in np.arange(50,500,50):   \n",
        "  et = ExtraTreesRegressor(random_state=0, n_estimators = i)\n",
        "  et.fit(x_train, y_train)\n",
        "  y_valid_pred = et.predict(x_valid)\n",
        "\n",
        "  e.append(r2(y_valid, y_valid_pred))"
      ],
      "metadata": {
        "id": "fkGJozKnHR8O"
      },
      "execution_count": 438,
      "outputs": []
    },
    {
      "cell_type": "code",
      "source": [
        "pd.Series(e, index=np.arange(50,500,50)).plot(grid= True, figsize=(8,5))\n",
        "plt.xlabel('n_estimators')\n",
        "plt.ylabel('R2')\n",
        "plt.show()"
      ],
      "metadata": {
        "colab": {
          "base_uri": "https://localhost:8080/",
          "height": 335
        },
        "id": "xrHmcW4zHR41",
        "outputId": "ec6bbfaa-c3d9-4eee-dcfe-fbd781533eea"
      },
      "execution_count": 439,
      "outputs": [
        {
          "output_type": "display_data",
          "data": {
            "text/plain": [
              "<Figure size 576x360 with 1 Axes>"
            ],
            "image/png": "[encoded data removed]"
          },
          "metadata": {
            "needs_background": "light"
          }
        }
      ]
    },
    {
      "cell_type": "code",
      "source": [
        "# highest r2_score at n_estimators=100\n",
        "et = ExtraTreesRegressor(random_state=0, n_estimators = 100)\n",
        "\n",
        "et.fit(x_train, y_train)\n",
        "y_valid_pred = et.predict(x_valid)\n",
        "\n",
        "print('R2 :', r2(y_valid, y_valid_pred))\n",
        "print('MAE :', mae(y_valid, y_valid_pred))"
      ],
      "metadata": {
        "colab": {
          "base_uri": "https://localhost:8080/"
        },
        "id": "rSNM9g84HR2A",
        "outputId": "872af71f-f7f4-4915-9ab3-b00e25ff227f"
      },
      "execution_count": 440,
      "outputs": [
        {
          "output_type": "stream",
          "name": "stdout",
          "text": [
            "R2 : 0.7093771968606902\n",
            "MAE : 0.31050218601027396\n"
          ]
        }
      ]
    },
    {
      "cell_type": "markdown",
      "source": [
        "##Gradient-Boosting parameter tuning"
      ],
      "metadata": {
        "id": "Tv9i4lTwIeIz"
      }
    },
    {
      "cell_type": "code",
      "source": [
        "e = []\n",
        "for i in np.arange(50,500,50):\n",
        "  for j in np.arange(0.1, 0.5, 0.1):   \n",
        "    grad = GradientBoostingRegressor(random_state=0, n_estimators = i, learning_rate = j)\n",
        "    grad.fit(x_train, y_train)\n",
        "    y_valid_pred = grad.predict(x_valid)\n",
        "\n",
        "    e.append(r2(y_valid, y_valid_pred))"
      ],
      "metadata": {
        "id": "MOYClwv71vYY"
      },
      "execution_count": 441,
      "outputs": []
    },
    {
      "cell_type": "code",
      "source": [
        "pd.Series(e, index=np.arange(50,500,50/4)).plot(grid= True, figsize=(8,5))\n",
        "plt.xlabel('n_estimators & learning rate')\n",
        "plt.ylabel('R2')\n",
        "plt.show()"
      ],
      "metadata": {
        "colab": {
          "base_uri": "https://localhost:8080/",
          "height": 335
        },
        "id": "CGKGUFrz2tXn",
        "outputId": "02861771-2578-41da-dcf6-f835f2d755d0"
      },
      "execution_count": 442,
      "outputs": [
        {
          "output_type": "display_data",
          "data": {
            "text/plain": [
              "<Figure size 576x360 with 1 Axes>"
            ],
            "image/png": "[encoded data removed]"
          },
          "metadata": {
            "needs_background": "light"
          }
        }
      ]
    },
    {
      "cell_type": "code",
      "source": [
        "# zooming on n_estimators=100 & learning_rate varies from 0.1 to 0.4\n",
        "\n",
        "pd.Series(e, index=np.arange(50,500,50/4)).plot(grid= True, figsize=(8,5))\n",
        "plt.xlim([100, 150])\n",
        "plt.xlabel('n_estimators & learning rate')\n",
        "plt.ylabel('R2')\n",
        "plt.show()"
      ],
      "metadata": {
        "colab": {
          "base_uri": "https://localhost:8080/",
          "height": 335
        },
        "id": "mRp1Sn184BrW",
        "outputId": "7c818555-6b81-46df-efd9-cfab15c53ceb"
      },
      "execution_count": 443,
      "outputs": [
        {
          "output_type": "display_data",
          "data": {
            "text/plain": [
              "<Figure size 576x360 with 1 Axes>"
            ],
            "image/png": "[encoded data removed]"
          },
          "metadata": {
            "needs_background": "light"
          }
        }
      ]
    },
    {
      "cell_type": "code",
      "source": [
        "# highest r2_score at n_estimators=100 & learning_rate=0.2\n",
        "grad = GradientBoostingRegressor(n_estimators = 100, learning_rate = 0.2, random_state=0)\n",
        "\n",
        "grad.fit(x_train, y_train)\n",
        "y_valid_pred = grad.predict(x_valid)\n",
        "\n",
        "print('R2 :', r2(y_valid, y_valid_pred))\n",
        "print('MAE :', mae(y_valid, y_valid_pred))"
      ],
      "metadata": {
        "colab": {
          "base_uri": "https://localhost:8080/"
        },
        "id": "V5GazzD-l2bo",
        "outputId": "d5159e6a-a489-4466-debe-23943addd1f4"
      },
      "execution_count": 444,
      "outputs": [
        {
          "output_type": "stream",
          "name": "stdout",
          "text": [
            "R2 : 0.7088304624644101\n",
            "MAE : 0.3128625489283682\n"
          ]
        }
      ]
    },
    {
      "cell_type": "markdown",
      "source": [
        "##Ada-Boost parameter tuning"
      ],
      "metadata": {
        "id": "rWZyBJDoJFY_"
      }
    },
    {
      "cell_type": "code",
      "source": [
        "e = []\n",
        "for i in np.arange(50,500,50):\n",
        "  for j in np.arange(0.1, 0.5, 0.1): \n",
        "    ada = AdaBoostRegressor(DecisionTreeRegressor(random_state=0), random_state=0, n_estimators = i, learning_rate = j)\n",
        "    ada.fit(x_train, y_train)\n",
        "    y_valid_pred = ada.predict(x_valid)\n",
        "\n",
        "    e.append(r2(y_valid, y_valid_pred))"
      ],
      "metadata": {
        "id": "Lk90CLdFJGZ2"
      },
      "execution_count": 445,
      "outputs": []
    },
    {
      "cell_type": "code",
      "source": [
        "pd.Series(e, index=np.arange(50,500,50/4)).plot(grid= True, figsize=(8,5))\n",
        "plt.xlabel('n_estimators & learning rate')\n",
        "plt.ylabel('R2')\n",
        "plt.show()"
      ],
      "metadata": {
        "colab": {
          "base_uri": "https://localhost:8080/",
          "height": 335
        },
        "id": "PZZDHlSWJGfT",
        "outputId": "3b3dd67e-3b25-4e4f-a323-f6122b516f59"
      },
      "execution_count": 446,
      "outputs": [
        {
          "output_type": "display_data",
          "data": {
            "text/plain": [
              "<Figure size 576x360 with 1 Axes>"
            ],
            "image/png": "[encoded data removed]"
          },
          "metadata": {
            "needs_background": "light"
          }
        }
      ]
    },
    {
      "cell_type": "code",
      "source": [
        "# zooming on n_estimators=350 & learning_rate varies from 0.1 to 0.4\n",
        "\n",
        "pd.Series(e, index=np.arange(50,500,50/4)).plot(grid= True, figsize=(8,5))\n",
        "plt.xlim([350, 400])\n",
        "plt.xlabel('n_estimators & learning rate')\n",
        "plt.ylabel('R2')\n",
        "plt.show()"
      ],
      "metadata": {
        "colab": {
          "base_uri": "https://localhost:8080/",
          "height": 335
        },
        "id": "TsD1nhfH6g-n",
        "outputId": "522bb9cf-65b3-4a71-85f3-659ee2b2b5e5"
      },
      "execution_count": 447,
      "outputs": [
        {
          "output_type": "display_data",
          "data": {
            "text/plain": [
              "<Figure size 576x360 with 1 Axes>"
            ],
            "image/png": "[encoded data removed]"
          },
          "metadata": {
            "needs_background": "light"
          }
        }
      ]
    },
    {
      "cell_type": "code",
      "source": [
        "# highest r2_score at n_estimators=350 & learning_rate=0.3\n",
        "ada = AdaBoostRegressor(DecisionTreeRegressor(random_state=0), random_state=0, n_estimators = 350, learning_rate = 0.3)\n",
        "\n",
        "ada.fit(x_train, y_train)\n",
        "y_valid_pred = ada.predict(x_valid)\n",
        "\n",
        "print('R2 :', r2(y_valid, y_valid_pred))\n",
        "print('MAE :', mae(y_valid, y_valid_pred))"
      ],
      "metadata": {
        "colab": {
          "base_uri": "https://localhost:8080/"
        },
        "id": "2tLVhHHGJGcd",
        "outputId": "4fdc2812-c132-4fcd-f264-980c14f78431"
      },
      "execution_count": 448,
      "outputs": [
        {
          "output_type": "stream",
          "name": "stdout",
          "text": [
            "R2 : 0.7288049089741953\n",
            "MAE : 0.3071825182231295\n"
          ]
        }
      ]
    },
    {
      "cell_type": "markdown",
      "source": [
        "## Results after tuning"
      ],
      "metadata": {
        "id": "3QHzmbeul-Ch"
      }
    },
    {
      "cell_type": "code",
      "source": [
        "##  MAE      R2      Model\n",
        "\n",
        "# 0.3079    0.7318    bag\n",
        "# 0.3047    0.7342    rf\n",
        "# 0.3105    0.7093    et\n",
        "# 0.3128    0.7088    grad\n",
        "# 0.3071    0.7288    ada"
      ],
      "metadata": {
        "id": "2luj2TXSRFT3"
      },
      "execution_count": 449,
      "outputs": []
    },
    {
      "cell_type": "markdown",
      "source": [
        "Here, Random-Forest model with n_estimator=100 gives highest r2_score, lowest MAE on the validation set.\n",
        "\n",
        "So, I will save this model and make prediction on test set using this model."
      ],
      "metadata": {
        "id": "t6Z1h0bgnj1F"
      }
    },
    {
      "cell_type": "code",
      "source": [
        "# save best model\n",
        "import pickle\n",
        "\n",
        "pickle.dump(rf,open('Nilavo.pkl','wb'))"
      ],
      "metadata": {
        "id": "zs7_gS2Do3j2"
      },
      "execution_count": 450,
      "outputs": []
    },
    {
      "cell_type": "markdown",
      "source": [
        "# Using my Best Model to predict on the test set\n",
        "As instructed in TDC Leaderboard Guidelines: https://tdcommons.ai/benchmark/overview/"
      ],
      "metadata": {
        "id": "fuVb0m5xi58r"
      }
    },
    {
      "cell_type": "code",
      "source": [
        "# Importent features extractor function\n",
        "\n",
        "def useful_molecular_descriptors(table):\n",
        "\n",
        "  descriptors = pd.DataFrame()\n",
        "\n",
        "  mol = [Chem.MolFromSmiles(drug) for drug in table.Drug]\n",
        "\n",
        "  # FpDensityMorgan1\n",
        "  Nilavo = []\n",
        "  Nilavo.append([Descriptors.FpDensityMorgan1(i) for i in mol])\n",
        "  descriptors['FpDensityMorgan1'] = Nilavo[0]\n",
        "\n",
        "  # FpDensityMorgan2\n",
        "  Nilavo = []\n",
        "  Nilavo.append([Descriptors.FpDensityMorgan2(i) for i in mol])\n",
        "  descriptors['FpDensityMorgan2'] = Nilavo[0]\n",
        "\n",
        "  # MaxAbsPartialCharge\n",
        "  Nilavo = []\n",
        "  Nilavo.append([Descriptors.MaxAbsPartialCharge(i) for i in mol])\n",
        "  descriptors['MaxAbsPartialCharge'] = Nilavo[0]\n",
        "\n",
        "  # MaxPartialCharge\n",
        "  Nilavo = []\n",
        "  Nilavo.append([Descriptors.MaxPartialCharge(i) for i in mol])\n",
        "  descriptors['MaxPartialCharge'] = Nilavo[0]\n",
        "\n",
        "  # MinAbsPartialCharge\n",
        "  Nilavo = []\n",
        "  Nilavo.append([Descriptors.MinAbsPartialCharge(i) for i in mol])\n",
        "  descriptors['MinAbsPartialCharge'] = Nilavo[0]\n",
        "\n",
        "  # MinPartialCharge\n",
        "  Nilavo = []\n",
        "  Nilavo.append([Descriptors.MinPartialCharge(i) for i in mol])\n",
        "  descriptors['MinPartialCharge'] = Nilavo[0]\n",
        "\n",
        "  # Log of partition coefficient\n",
        "  Nilavo = []\n",
        "  Nilavo.append([Descriptors.MolLogP(i) for i in mol])\n",
        "  descriptors['Partition_Coefficient'] = Nilavo[0]\n",
        "\n",
        "\n",
        "  ### Lipinski Descriptors ###\n",
        "  # Fraction of C atoms that are SP3 hybridized\n",
        "  Nilavo = []\n",
        "  Nilavo.append([Lipinski.FractionCSP3(i) for i in mol])\n",
        "  descriptors['FractionCSP3'] = Nilavo[0]\n",
        "\n",
        "  # Number of heavy atoms a molecule\n",
        "  Nilavo = []\n",
        "  Nilavo.append([Lipinski.HeavyAtomCount(i) for i in mol])\n",
        "  descriptors['Heavy_atoms'] = Nilavo[0]\n",
        "\n",
        "  # Number of NHs or OHs\n",
        "  Nilavo = []\n",
        "  Nilavo.append([Lipinski.NHOHCount(i) for i in mol])\n",
        "  descriptors['NHs/OHs'] = Nilavo[0]\n",
        "\n",
        "  # Number of Nitrogens and Oxygens\n",
        "  Nilavo = []\n",
        "  Nilavo.append([Lipinski.NOCount(i) for i in mol])\n",
        "  descriptors['N&O'] = Nilavo[0]\n",
        "\n",
        "  # Number of aliphatic (containing at least one non-aromatic bond) carbocycles for a molecule\n",
        "  Nilavo = []\n",
        "  Nilavo.append([Lipinski.NumAliphaticCarbocycles(i) for i in mol])\n",
        "  descriptors['Aliphatic_carbocycles'] = Nilavo[0]\n",
        "\n",
        "  # Number of aliphatic (containing at least one non-aromatic bond) heterocycles for a molecule\n",
        "  Nilavo = []\n",
        "  Nilavo.append([Lipinski.NumAliphaticHeterocycles(i) for i in mol])\n",
        "  descriptors['Aliphatic_heterocycles'] = Nilavo[0]\n",
        "\n",
        "  # Number of aliphatic (containing at least one non-aromatic bond) rings for a molecule\n",
        "  Nilavo = []\n",
        "  Nilavo.append([Lipinski.NumAliphaticRings(i) for i in mol])\n",
        "  descriptors['Aliphatic_rings'] = Nilavo[0]\n",
        "\n",
        "  # Number of aromatic heterocycles for a molecule\n",
        "  Nilavo = []\n",
        "  Nilavo.append([Lipinski.NumAromaticHeterocycles(i) for i in mol])\n",
        "  descriptors['Aromatic_heterocycles'] = Nilavo[0]\n",
        "\n",
        "  # Number of Hydrogen Bond Acceptors\n",
        "  Nilavo = []\n",
        "  Nilavo.append([Lipinski.NumHAcceptors(i) for i in mol])\n",
        "  descriptors['HAcceptors'] = Nilavo[0]\n",
        "\n",
        "  # Number of Hydrogen Bond Donors\n",
        "  Nilavo = []\n",
        "  Nilavo.append([Lipinski.NumHDonors(i) for i in mol])\n",
        "  descriptors['HDonors'] = Nilavo[0]\n",
        "\n",
        "  # Number of Heteroatoms\n",
        "  Nilavo = []\n",
        "  Nilavo.append([Lipinski.NumHeteroatoms(i) for i in mol])\n",
        "  descriptors['Heteroatoms'] = Nilavo[0]\n",
        "\n",
        "  # Number of Rotatable Bonds\n",
        "  Nilavo = []\n",
        "  Nilavo.append([Lipinski.NumRotatableBonds(i) for i in mol])\n",
        "  descriptors['Rotatable_Bonds'] = Nilavo[0]\n",
        "\n",
        "  # Number of saturated heterocycles for a molecule\n",
        "  Nilavo = []\n",
        "  Nilavo.append([Lipinski.NumSaturatedHeterocycles(i) for i in mol])\n",
        "  descriptors['Saturated_Heterocycles'] = Nilavo[0]\n",
        "\n",
        "  # Number of saturated rings for a molecule\n",
        "  Nilavo = []\n",
        "  Nilavo.append([Lipinski.NumSaturatedRings(i) for i in mol])\n",
        "  descriptors['Saturated_Rings'] = Nilavo[0]\n",
        "\n",
        "  # Number of rings for a molecule\n",
        "  Nilavo = []\n",
        "  Nilavo.append([Lipinski.RingCount(i) for i in mol])\n",
        "  descriptors['Rings'] = Nilavo[0]\n",
        "\n",
        "  return descriptors"
      ],
      "metadata": {
        "id": "ukPX8rUTaXJf"
      },
      "execution_count": 451,
      "outputs": []
    },
    {
      "cell_type": "code",
      "source": [
        "from tdc.benchmark_group import admet_group\n",
        "group = admet_group(path = 'data/')\n",
        "predictions_list = []\n",
        "\n",
        "for seed in [1, 2, 3, 4, 5]:\n",
        "  benchmark = group.get('Caco2_Wang') \n",
        "  # all benchmark names in a benchmark group are stored in group.dataset_names\n",
        "  predictions = {}\n",
        "  name = benchmark['name']\n",
        "  train_val, test = benchmark['train_val'], benchmark['test']\n",
        "  train, valid = group.get_train_valid_split(benchmark = name, split_type = 'default', seed = seed)\n",
        "  \n",
        "  # features extraction\n",
        "  train_x = useful_molecular_descriptors(train)\n",
        "  valid_x = useful_molecular_descriptors(valid)\n",
        "  test_x = useful_molecular_descriptors(test)\n",
        "\n",
        "  # target column\n",
        "  y_train = train.Y\n",
        "  y_valid = valid.Y\n",
        "  y_test = test.Y\n",
        "\n",
        "  # merging traning and validation set\n",
        "  x_train = pd.concat([train_x, valid_x])\n",
        "  y_train = pd.concat([y_train, y_valid], axis=0)\n",
        "\n",
        "  # loading saved model\n",
        "  model = pickle.load(open('Nilavo.pkl','rb'))\n",
        "  # train saved model on train & validation set\n",
        "  model.fit(x_train, y_train)\n",
        "  # prediction on test set\n",
        "  y_pred_test = model.predict(test_x)\n",
        "\n",
        "  predictions[name] = y_pred_test\n",
        "  predictions_list.append(predictions)\n",
        "\n",
        "results = group.evaluate_many(predictions_list)"
      ],
      "metadata": {
        "colab": {
          "base_uri": "https://localhost:8080/"
        },
        "id": "W1EP2CHqRFRe",
        "outputId": "797a2248-8bf4-4a25-d4e7-07177d5b8b3e"
      },
      "execution_count": 452,
      "outputs": [
        {
          "output_type": "stream",
          "name": "stderr",
          "text": [
            "Found local copy...\n",
            "generating training, validation splits...\n",
            "100%|██████████| 728/728 [00:00<00:00, 2074.96it/s]\n",
            "generating training, validation splits...\n",
            "100%|██████████| 728/728 [00:00<00:00, 1980.06it/s]\n",
            "generating training, validation splits...\n",
            "100%|██████████| 728/728 [00:00<00:00, 2053.07it/s]\n",
            "generating training, validation splits...\n",
            "100%|██████████| 728/728 [00:00<00:00, 2265.67it/s]\n",
            "generating training, validation splits...\n",
            "100%|██████████| 728/728 [00:00<00:00, 2085.21it/s]\n"
          ]
        }
      ]
    },
    {
      "cell_type": "code",
      "source": [
        "results"
      ],
      "metadata": {
        "colab": {
          "base_uri": "https://localhost:8080/"
        },
        "id": "UeTjj6RL-PgM",
        "outputId": "2a512a6d-c95a-4f0a-e8c9-b6507614530d"
      },
      "execution_count": 453,
      "outputs": [
        {
          "output_type": "execute_result",
          "data": {
            "text/plain": [
              "{'caco2_wang': [0.343, 0.005]}"
            ]
          },
          "metadata": {},
          "execution_count": 453
        }
      ]
    }
  ]
}